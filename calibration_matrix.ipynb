{
 "cells": [
  {
   "cell_type": "code",
   "execution_count": 13,
   "id": "139fb3b4-72e1-4682-a31f-35e11315b2ad",
   "metadata": {},
   "outputs": [],
   "source": [
    "import os\n",
    "import numpy as np\n",
    "import tensorflow as tf\n",
    "from PIL import Image\n",
    "import pandas as pd\n",
    "from tqdm import tqdm\n",
    "from backbone import Backbone\n",
    "from tensorflow import keras\n",
    "from PIL import Image\n",
    "from PIL.ExifTags import TAGS"
   ]
  },
  {
   "cell_type": "code",
   "execution_count": null,
   "id": "cd842293-ac6d-49e9-b701-6028b92bbb82",
   "metadata": {},
   "outputs": [],
   "source": [
    "## LOAD MODEL"
   ]
  },
  {
   "cell_type": "code",
   "execution_count": null,
   "id": "6bf9164f-45dd-4baf-8373-ac499b061ca2",
   "metadata": {},
   "outputs": [],
   "source": [
    "model = Backbone((240, 240))\n",
    "latest = tf.train.latest_checkpoint(\"checkpoints/chckp_99_1007\")\n",
    "model.build([99])\n",
    "model.load_weights(latest)"
   ]
  },
  {
   "cell_type": "code",
   "execution_count": null,
   "id": "8274ffe8-0648-4927-bfc4-0c46abab34ac",
   "metadata": {},
   "outputs": [],
   "source": [
    "## LOAD TEST SET"
   ]
  },
  {
   "cell_type": "code",
   "execution_count": 3,
   "id": "21d419b4-9cb9-46ea-9fe9-6ca9b25b0af6",
   "metadata": {},
   "outputs": [],
   "source": [
    "correct_predictions = pd.read_csv(\"utils/gradcam/conf_correct.csv\", index_col = False)"
   ]
  },
  {
   "cell_type": "code",
   "execution_count": 14,
   "id": "9a674b50-e165-450e-854f-cbebfd7c2f92",
   "metadata": {},
   "outputs": [],
   "source": [
    "import exif\n",
    "image = Image.open(\"dataset/test/104123223_7410c654ba_19_19355699@N00.jpg\")\n",
    "exifdata = image.getexif()"
   ]
  },
  {
   "cell_type": "code",
   "execution_count": 27,
   "id": "89eb289b-ec9c-4a2b-99a1-a23b545cf6f9",
   "metadata": {},
   "outputs": [
    {
     "ename": "ModuleNotFoundError",
     "evalue": "No module named 'PyDictionary'",
     "output_type": "error",
     "traceback": [
      "\u001b[0;31m---------------------------------------------------------------------------\u001b[0m",
      "\u001b[0;31mModuleNotFoundError\u001b[0m                       Traceback (most recent call last)",
      "\u001b[0;32m/tmp/ipykernel_462/1960935248.py\u001b[0m in \u001b[0;36m<module>\u001b[0;34m\u001b[0m\n\u001b[0;32m----> 1\u001b[0;31m \u001b[0;32mimport\u001b[0m \u001b[0mPyDictionary\u001b[0m\u001b[0;34m\u001b[0m\u001b[0;34m\u001b[0m\u001b[0m\n\u001b[0m\u001b[1;32m      2\u001b[0m \u001b[0mdictionary\u001b[0m \u001b[0;34m=\u001b[0m \u001b[0mPyDictionary\u001b[0m\u001b[0;34m(\u001b[0m\u001b[0;34m)\u001b[0m\u001b[0;34m\u001b[0m\u001b[0;34m\u001b[0m\u001b[0m\n",
      "\u001b[0;31mModuleNotFoundError\u001b[0m: No module named 'PyDictionary'"
     ]
    }
   ],
   "source": []
  }
 ],
 "metadata": {
  "kernelspec": {
   "display_name": "Python 3 (ipykernel)",
   "language": "python",
   "name": "python3"
  },
  "language_info": {
   "codemirror_mode": {
    "name": "ipython",
    "version": 3
   },
   "file_extension": ".py",
   "mimetype": "text/x-python",
   "name": "python",
   "nbconvert_exporter": "python",
   "pygments_lexer": "ipython3",
   "version": "3.8.5"
  }
 },
 "nbformat": 4,
 "nbformat_minor": 5
}
